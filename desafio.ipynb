{
 "cells": [
  {
   "cell_type": "code",
   "execution_count": 1,
   "id": "11b0c643",
   "metadata": {},
   "outputs": [
    {
     "data": {
      "application/vnd.jupyter.widget-view+json": {
       "model_id": "e47db2ffb2754b0e8c449e305d0076b5",
       "version_major": 2,
       "version_minor": 0
      },
      "text/plain": [
       "VBox()"
      ]
     },
     "metadata": {},
     "output_type": "display_data"
    },
    {
     "name": "stdout",
     "output_type": "stream",
     "text": [
      "Starting Spark application\n"
     ]
    },
    {
     "data": {
      "text/html": [
       "<table>\n",
       "<tr><th>ID</th><th>YARN Application ID</th><th>Kind</th><th>State</th><th>Spark UI</th><th>Driver log</th><th>Current session?</th></tr><tr><td>0</td><td>application_1629139006630_0002</td><td>pyspark</td><td>idle</td><td><a target=\"_blank\" href=\"http://ip-172-31-10-197.us-east-2.compute.internal:20888/proxy/application_1629139006630_0002/\" class=\"emr-proxy-link\" emr-resource=\"j-XKKH9GDDR4JR\n",
       "\" application-id=\"application_1629139006630_0002\">Link</a></td><td><a target=\"_blank\" href=\"http://ip-172-31-6-195.us-east-2.compute.internal:8042/node/containerlogs/container_1629139006630_0002_01_000001/livy\" >Link</a></td><td>✔</td></tr></table>"
      ],
      "text/plain": [
       "<IPython.core.display.HTML object>"
      ]
     },
     "metadata": {},
     "output_type": "display_data"
    },
    {
     "data": {
      "application/vnd.jupyter.widget-view+json": {
       "model_id": "",
       "version_major": 2,
       "version_minor": 0
      },
      "text/plain": [
       "FloatProgress(value=0.0, bar_style='info', description='Progress:', layout=Layout(height='25px', width='50%'),…"
      ]
     },
     "metadata": {},
     "output_type": "display_data"
    },
    {
     "name": "stdout",
     "output_type": "stream",
     "text": [
      "SparkSession available as 'spark'.\n"
     ]
    },
    {
     "data": {
      "application/vnd.jupyter.widget-view+json": {
       "model_id": "",
       "version_major": 2,
       "version_minor": 0
      },
      "text/plain": [
       "FloatProgress(value=0.0, bar_style='info', description='Progress:', layout=Layout(height='25px', width='50%'),…"
      ]
     },
     "metadata": {},
     "output_type": "display_data"
    }
   ],
   "source": [
    "import pyspark"
   ]
  },
  {
   "cell_type": "code",
   "execution_count": 12,
   "id": "6bdea66c",
   "metadata": {},
   "outputs": [
    {
     "data": {
      "application/vnd.jupyter.widget-view+json": {
       "model_id": "dbdcf1b7d0ed4967a09b409422b6882d",
       "version_major": 2,
       "version_minor": 0
      },
      "text/plain": [
       "VBox()"
      ]
     },
     "metadata": {},
     "output_type": "display_data"
    },
    {
     "data": {
      "application/vnd.jupyter.widget-view+json": {
       "model_id": "",
       "version_major": 2,
       "version_minor": 0
      },
      "text/plain": [
       "FloatProgress(value=0.0, bar_style='info', description='Progress:', layout=Layout(height='25px', width='50%'),…"
      ]
     },
     "metadata": {},
     "output_type": "display_data"
    }
   ],
   "source": [
    "censo = (\n",
    "    spark\n",
    "    .read\n",
    "    .format(\"csv\")\n",
    "    .option(\"header\", True)\n",
    "    .option(\"inferSchema\", True)\n",
    "    .option(\"delimiter\", \"|\")\n",
    "    .load(\"s3://mindsetcloud/raw-data/\")\n",
    ")"
   ]
  },
  {
   "cell_type": "code",
   "execution_count": 13,
   "id": "3c833bd3",
   "metadata": {},
   "outputs": [
    {
     "data": {
      "application/vnd.jupyter.widget-view+json": {
       "model_id": "46c84d5cede54715bf2854840b99c682",
       "version_major": 2,
       "version_minor": 0
      },
      "text/plain": [
       "VBox()"
      ]
     },
     "metadata": {},
     "output_type": "display_data"
    },
    {
     "data": {
      "application/vnd.jupyter.widget-view+json": {
       "model_id": "",
       "version_major": 2,
       "version_minor": 0
      },
      "text/plain": [
       "FloatProgress(value=0.0, bar_style='info', description='Progress:', layout=Layout(height='25px', width='50%'),…"
      ]
     },
     "metadata": {},
     "output_type": "display_data"
    },
    {
     "name": "stdout",
     "output_type": "stream",
     "text": [
      "root\n",
      " |-- NU_ANO_CENSO: integer (nullable = true)\n",
      " |-- ID_ALUNO: string (nullable = true)\n",
      " |-- ID_MATRICULA: integer (nullable = true)\n",
      " |-- NU_MES: integer (nullable = true)\n",
      " |-- NU_ANO: integer (nullable = true)\n",
      " |-- NU_IDADE_REFERENCIA: integer (nullable = true)\n",
      " |-- NU_IDADE: integer (nullable = true)\n",
      " |-- TP_SEXO: integer (nullable = true)\n",
      " |-- TP_COR_RACA: integer (nullable = true)\n",
      " |-- TP_NACIONALIDADE: integer (nullable = true)\n",
      " |-- CO_PAIS_ORIGEM: integer (nullable = true)\n",
      " |-- CO_UF_NASC: integer (nullable = true)\n",
      " |-- CO_MUNICIPIO_NASC: integer (nullable = true)\n",
      " |-- CO_UF_END: integer (nullable = true)\n",
      " |-- CO_MUNICIPIO_END: integer (nullable = true)\n",
      " |-- TP_ZONA_RESIDENCIAL: integer (nullable = true)\n",
      " |-- TP_LOCAL_RESID_DIFERENCIADA: integer (nullable = true)\n",
      " |-- IN_NECESSIDADE_ESPECIAL: integer (nullable = true)\n",
      " |-- IN_BAIXA_VISAO: integer (nullable = true)\n",
      " |-- IN_CEGUEIRA: integer (nullable = true)\n",
      " |-- IN_DEF_AUDITIVA: integer (nullable = true)\n",
      " |-- IN_DEF_FISICA: integer (nullable = true)\n",
      " |-- IN_DEF_INTELECTUAL: integer (nullable = true)\n",
      " |-- IN_SURDEZ: integer (nullable = true)\n",
      " |-- IN_SURDOCEGUEIRA: integer (nullable = true)\n",
      " |-- IN_DEF_MULTIPLA: integer (nullable = true)\n",
      " |-- IN_AUTISMO: integer (nullable = true)\n",
      " |-- IN_SUPERDOTACAO: integer (nullable = true)\n",
      " |-- IN_RECURSO_LEDOR: integer (nullable = true)\n",
      " |-- IN_RECURSO_TRANSCRICAO: integer (nullable = true)\n",
      " |-- IN_RECURSO_INTERPRETE: integer (nullable = true)\n",
      " |-- IN_RECURSO_LIBRAS: integer (nullable = true)\n",
      " |-- IN_RECURSO_LABIAL: integer (nullable = true)\n",
      " |-- IN_RECURSO_AMPLIADA_18: integer (nullable = true)\n",
      " |-- IN_RECURSO_AMPLIADA_24: integer (nullable = true)\n",
      " |-- IN_RECURSO_CD_AUDIO: integer (nullable = true)\n",
      " |-- IN_RECURSO_PROVA_PORTUGUES: integer (nullable = true)\n",
      " |-- IN_RECURSO_VIDEO_LIBRAS: integer (nullable = true)\n",
      " |-- IN_RECURSO_BRAILLE: integer (nullable = true)\n",
      " |-- IN_RECURSO_NENHUM: integer (nullable = true)\n",
      " |-- IN_AEE_LIBRAS: integer (nullable = true)\n",
      " |-- IN_AEE_LINGUA_PORTUGUESA: integer (nullable = true)\n",
      " |-- IN_AEE_INFORMATICA_ACESSIVEL: integer (nullable = true)\n",
      " |-- IN_AEE_BRAILLE: integer (nullable = true)\n",
      " |-- IN_AEE_CAA: integer (nullable = true)\n",
      " |-- IN_AEE_SOROBAN: integer (nullable = true)\n",
      " |-- IN_AEE_VIDA_AUTONOMA: integer (nullable = true)\n",
      " |-- IN_AEE_OPTICOS_NAO_OPTICOS: integer (nullable = true)\n",
      " |-- IN_AEE_ENRIQ_CURRICULAR: integer (nullable = true)\n",
      " |-- IN_AEE_DESEN_COGNITIVO: integer (nullable = true)\n",
      " |-- IN_AEE_MOBILIDADE: integer (nullable = true)\n",
      " |-- TP_OUTRO_LOCAL_AULA: integer (nullable = true)\n",
      " |-- IN_TRANSPORTE_PUBLICO: integer (nullable = true)\n",
      " |-- TP_RESPONSAVEL_TRANSPORTE: integer (nullable = true)\n",
      " |-- IN_TRANSP_BICICLETA: integer (nullable = true)\n",
      " |-- IN_TRANSP_MICRO_ONIBUS: integer (nullable = true)\n",
      " |-- IN_TRANSP_ONIBUS: integer (nullable = true)\n",
      " |-- IN_TRANSP_TR_ANIMAL: integer (nullable = true)\n",
      " |-- IN_TRANSP_VANS_KOMBI: integer (nullable = true)\n",
      " |-- IN_TRANSP_OUTRO_VEICULO: integer (nullable = true)\n",
      " |-- IN_TRANSP_EMBAR_ATE5: integer (nullable = true)\n",
      " |-- IN_TRANSP_EMBAR_5A15: integer (nullable = true)\n",
      " |-- IN_TRANSP_EMBAR_15A35: integer (nullable = true)\n",
      " |-- IN_TRANSP_EMBAR_35: integer (nullable = true)\n",
      " |-- TP_ETAPA_ENSINO: integer (nullable = true)\n",
      " |-- IN_ESPECIAL_EXCLUSIVA: integer (nullable = true)\n",
      " |-- IN_REGULAR: integer (nullable = true)\n",
      " |-- IN_EJA: integer (nullable = true)\n",
      " |-- IN_PROFISSIONALIZANTE: integer (nullable = true)\n",
      " |-- ID_TURMA: integer (nullable = true)\n",
      " |-- CO_CURSO_EDUC_PROFISSIONAL: integer (nullable = true)\n",
      " |-- TP_MEDIACAO_DIDATICO_PEDAGO: integer (nullable = true)\n",
      " |-- NU_DURACAO_TURMA: integer (nullable = true)\n",
      " |-- NU_DUR_ATIV_COMP_MESMA_REDE: integer (nullable = true)\n",
      " |-- NU_DUR_ATIV_COMP_OUTRAS_REDES: integer (nullable = true)\n",
      " |-- NU_DUR_AEE_MESMA_REDE: integer (nullable = true)\n",
      " |-- NU_DUR_AEE_OUTRAS_REDES: integer (nullable = true)\n",
      " |-- NU_DIAS_ATIVIDADE: integer (nullable = true)\n",
      " |-- TP_UNIFICADA: integer (nullable = true)\n",
      " |-- TP_TIPO_ATENDIMENTO_TURMA: integer (nullable = true)\n",
      " |-- TP_TIPO_LOCAL_TURMA: integer (nullable = true)\n",
      " |-- CO_ENTIDADE: integer (nullable = true)\n",
      " |-- CO_REGIAO: integer (nullable = true)\n",
      " |-- CO_MESORREGIAO: integer (nullable = true)\n",
      " |-- CO_MICRORREGIAO: integer (nullable = true)\n",
      " |-- CO_UF: integer (nullable = true)\n",
      " |-- CO_MUNICIPIO: integer (nullable = true)\n",
      " |-- CO_DISTRITO: integer (nullable = true)\n",
      " |-- TP_DEPENDENCIA: integer (nullable = true)\n",
      " |-- TP_LOCALIZACAO: integer (nullable = true)\n",
      " |-- TP_CATEGORIA_ESCOLA_PRIVADA: integer (nullable = true)\n",
      " |-- IN_CONVENIADA_PP: integer (nullable = true)\n",
      " |-- TP_CONVENIO_PODER_PUBLICO: integer (nullable = true)\n",
      " |-- IN_MANT_ESCOLA_PRIVADA_EMP: integer (nullable = true)\n",
      " |-- IN_MANT_ESCOLA_PRIVADA_ONG: integer (nullable = true)\n",
      " |-- IN_MANT_ESCOLA_PRIVADA_OSCIP: integer (nullable = true)\n",
      " |-- IN_MANT_ESCOLA_PRIV_ONG_OSCIP: integer (nullable = true)\n",
      " |-- IN_MANT_ESCOLA_PRIVADA_SIND: integer (nullable = true)\n",
      " |-- IN_MANT_ESCOLA_PRIVADA_SIST_S: integer (nullable = true)\n",
      " |-- IN_MANT_ESCOLA_PRIVADA_S_FINS: integer (nullable = true)\n",
      " |-- TP_REGULAMENTACAO: integer (nullable = true)\n",
      " |-- TP_LOCALIZACAO_DIFERENCIADA: integer (nullable = true)\n",
      " |-- IN_EDUCACAO_INDIGENA: integer (nullable = true)"
     ]
    }
   ],
   "source": [
    "censo.printSchema()"
   ]
  },
  {
   "cell_type": "code",
   "execution_count": 22,
   "id": "c49b78a5",
   "metadata": {},
   "outputs": [
    {
     "data": {
      "application/vnd.jupyter.widget-view+json": {
       "model_id": "fd3e5a11e9c54039967839c03d5252a9",
       "version_major": 2,
       "version_minor": 0
      },
      "text/plain": [
       "VBox()"
      ]
     },
     "metadata": {},
     "output_type": "display_data"
    },
    {
     "data": {
      "application/vnd.jupyter.widget-view+json": {
       "model_id": "",
       "version_major": 2,
       "version_minor": 0
      },
      "text/plain": [
       "FloatProgress(value=0.0, bar_style='info', description='Progress:', layout=Layout(height='25px', width='50%'),…"
      ]
     },
     "metadata": {},
     "output_type": "display_data"
    }
   ],
   "source": [
    "'''(\n",
    "    censo\n",
    "    .write\n",
    "    .mode(\"overwrite\")\n",
    "    .format(\"parquet\")\n",
    "    .partitionBy(\"NU_ANO_CENSO\")\n",
    "    .save(\"s3://mindsetcloud-production-386643807537/staging/\")\n",
    ")'''"
   ]
  },
  {
   "cell_type": "code",
   "execution_count": 3,
   "id": "cb9445ff",
   "metadata": {},
   "outputs": [
    {
     "data": {
      "application/vnd.jupyter.widget-view+json": {
       "model_id": "94d39113304f4bc5b56d7b5a71190f97",
       "version_major": 2,
       "version_minor": 0
      },
      "text/plain": [
       "VBox()"
      ]
     },
     "metadata": {},
     "output_type": "display_data"
    },
    {
     "data": {
      "application/vnd.jupyter.widget-view+json": {
       "model_id": "",
       "version_major": 2,
       "version_minor": 0
      },
      "text/plain": [
       "FloatProgress(value=0.0, bar_style='info', description='Progress:', layout=Layout(height='25px', width='50%'),…"
      ]
     },
     "metadata": {},
     "output_type": "display_data"
    }
   ],
   "source": [
    "censo = (\n",
    "    spark\n",
    "    .read\n",
    "    .format(\"parquet\")\n",
    "    .option(\"header\", True)\n",
    "    .option(\"inferSchema\", True)\n",
    "    .load(\"s3://mindsetcloud-production-386643807537/staging/\")\n",
    ")"
   ]
  },
  {
   "cell_type": "code",
   "execution_count": 4,
   "id": "05a5bc05",
   "metadata": {},
   "outputs": [
    {
     "data": {
      "application/vnd.jupyter.widget-view+json": {
       "model_id": "3d486e72b6884ee89304f77db2e25110",
       "version_major": 2,
       "version_minor": 0
      },
      "text/plain": [
       "VBox()"
      ]
     },
     "metadata": {},
     "output_type": "display_data"
    },
    {
     "data": {
      "application/vnd.jupyter.widget-view+json": {
       "model_id": "",
       "version_major": 2,
       "version_minor": 0
      },
      "text/plain": [
       "FloatProgress(value=0.0, bar_style='info', description='Progress:', layout=Layout(height='25px', width='50%'),…"
      ]
     },
     "metadata": {},
     "output_type": "display_data"
    }
   ],
   "source": [
    "from pyspark.sql.functions import mean, max, min, col, count, sum"
   ]
  },
  {
   "cell_type": "code",
   "execution_count": 40,
   "id": "2f1e8377",
   "metadata": {},
   "outputs": [
    {
     "data": {
      "application/vnd.jupyter.widget-view+json": {
       "model_id": "25963795a9b14d2f9d95fa3756432c89",
       "version_major": 2,
       "version_minor": 0
      },
      "text/plain": [
       "VBox()"
      ]
     },
     "metadata": {},
     "output_type": "display_data"
    },
    {
     "data": {
      "application/vnd.jupyter.widget-view+json": {
       "model_id": "",
       "version_major": 2,
       "version_minor": 0
      },
      "text/plain": [
       "FloatProgress(value=0.0, bar_style='info', description='Progress:', layout=Layout(height='25px', width='50%'),…"
      ]
     },
     "metadata": {},
     "output_type": "display_data"
    },
    {
     "name": "stdout",
     "output_type": "stream",
     "text": [
      "+-----+------------------+\n",
      "|CO_UF|TOTAL_MATRICULADOS|\n",
      "+-----+------------------+\n",
      "|35   |10399931          |\n",
      "|31   |4494458           |\n",
      "|33   |3617974           |\n",
      "|29   |3507272           |\n",
      "|41   |2731721           |\n",
      "|23   |2377672           |\n",
      "|43   |2377005           |\n",
      "|15   |2309261           |\n",
      "|26   |2248002           |\n",
      "|21   |2094724           |\n",
      "|42   |1716964           |\n",
      "|52   |1509671           |\n",
      "|13   |1173846           |\n",
      "|25   |977977            |\n",
      "|32   |915822            |\n",
      "|22   |882072            |\n",
      "|51   |871484            |\n",
      "|27   |867722            |\n",
      "|24   |826043            |\n",
      "|53   |724465            |\n",
      "+-----+------------------+\n",
      "only showing top 20 rows"
     ]
    }
   ],
   "source": [
    "#Qual foi o estado brasileiro (CO_UF) com o segundo maior número de alunos no Censo Escolar 2020?\n",
    "(censo.groupby('CO_UF').agg(count('ID_MATRICULA').alias('TOTAL_MATRICULADOS')).sort(col(\"TOTAL_MATRICULADOS\").desc()).show(truncate=False))\n"
   ]
  },
  {
   "cell_type": "code",
   "execution_count": 21,
   "id": "6d2174eb",
   "metadata": {},
   "outputs": [
    {
     "data": {
      "application/vnd.jupyter.widget-view+json": {
       "model_id": "52479624e2f548aaa2f5beccaf3b6191",
       "version_major": 2,
       "version_minor": 0
      },
      "text/plain": [
       "VBox()"
      ]
     },
     "metadata": {},
     "output_type": "display_data"
    },
    {
     "data": {
      "application/vnd.jupyter.widget-view+json": {
       "model_id": "",
       "version_major": 2,
       "version_minor": 0
      },
      "text/plain": [
       "FloatProgress(value=0.0, bar_style='info', description='Progress:', layout=Layout(height='25px', width='50%'),…"
      ]
     },
     "metadata": {},
     "output_type": "display_data"
    },
    {
     "name": "stdout",
     "output_type": "stream",
     "text": [
      "+-------------------+-------------------+\n",
      "|TP_ZONA_RESIDENCIAL|count(ID_MATRICULA)|\n",
      "+-------------------+-------------------+\n",
      "|                  1|            3938404|\n",
      "|                  2|             556054|\n",
      "+-------------------+-------------------+"
     ]
    }
   ],
   "source": [
    "#No estado de Minas Gerais, quantos alunos moravam na zona rural (tp_zona_residencial = 2)?\n",
    "censo.filter(censo.CO_UF == 31 ).groupby('TP_ZONA_RESIDENCIAL').agg(count('ID_MATRICULA')).show()"
   ]
  },
  {
   "cell_type": "code",
   "execution_count": 22,
   "id": "de5ccb5c",
   "metadata": {},
   "outputs": [
    {
     "data": {
      "application/vnd.jupyter.widget-view+json": {
       "model_id": "461c80d997fb4f92a3c3a9ed9698a14c",
       "version_major": 2,
       "version_minor": 0
      },
      "text/plain": [
       "VBox()"
      ]
     },
     "metadata": {},
     "output_type": "display_data"
    },
    {
     "data": {
      "application/vnd.jupyter.widget-view+json": {
       "model_id": "",
       "version_major": 2,
       "version_minor": 0
      },
      "text/plain": [
       "FloatProgress(value=0.0, bar_style='info', description='Progress:', layout=Layout(height='25px', width='50%'),…"
      ]
     },
     "metadata": {},
     "output_type": "display_data"
    },
    {
     "name": "stdout",
     "output_type": "stream",
     "text": [
      "+-------------------+-------------------+\n",
      "|TP_ZONA_RESIDENCIAL|count(ID_MATRICULA)|\n",
      "+-------------------+-------------------+\n",
      "|                  1|            9905267|\n",
      "|                  2|             494664|\n",
      "+-------------------+-------------------+"
     ]
    }
   ],
   "source": [
    "#No estado de São Paulo, quantos alunos moravam na zona urbana (tp_zona_residencial = 1)?\n",
    "censo.filter(censo.CO_UF == 35 ).groupby('TP_ZONA_RESIDENCIAL').agg(count('ID_MATRICULA')).show()"
   ]
  },
  {
   "cell_type": "code",
   "execution_count": 33,
   "id": "33cf8726",
   "metadata": {},
   "outputs": [
    {
     "data": {
      "application/vnd.jupyter.widget-view+json": {
       "model_id": "cfefe4c30f104722a313d4f69a93f228",
       "version_major": 2,
       "version_minor": 0
      },
      "text/plain": [
       "VBox()"
      ]
     },
     "metadata": {},
     "output_type": "display_data"
    },
    {
     "data": {
      "application/vnd.jupyter.widget-view+json": {
       "model_id": "",
       "version_major": 2,
       "version_minor": 0
      },
      "text/plain": [
       "FloatProgress(value=0.0, bar_style='info', description='Progress:', layout=Layout(height='25px', width='50%'),…"
      ]
     },
     "metadata": {},
     "output_type": "display_data"
    },
    {
     "name": "stdout",
     "output_type": "stream",
     "text": [
      "+-------+-----------------+\n",
      "|TP_SEXO|count(IN_AUTISMO)|\n",
      "+-------+-----------------+\n",
      "|      1|             9326|\n",
      "|      2|             2322|\n",
      "+-------+-----------------+"
     ]
    }
   ],
   "source": [
    "#No estado do Espírito Santo, quantos alunos do sexo masculino (tp_sexo=1) tinham autismo?\n",
    "censo.filter((censo.CO_UF == 32) & (censo.IN_AUTISMO == 1)).groupby('TP_SEXO').agg(count('IN_AUTISMO')).show()"
   ]
  },
  {
   "cell_type": "code",
   "execution_count": 43,
   "id": "8c0a0d3a",
   "metadata": {},
   "outputs": [
    {
     "data": {
      "application/vnd.jupyter.widget-view+json": {
       "model_id": "22fc58bd3ac348dbba20da943b3ea9e0",
       "version_major": 2,
       "version_minor": 0
      },
      "text/plain": [
       "VBox()"
      ]
     },
     "metadata": {},
     "output_type": "display_data"
    },
    {
     "data": {
      "application/vnd.jupyter.widget-view+json": {
       "model_id": "",
       "version_major": 2,
       "version_minor": 0
      },
      "text/plain": [
       "FloatProgress(value=0.0, bar_style='info', description='Progress:', layout=Layout(height='25px', width='50%'),…"
      ]
     },
     "metadata": {},
     "output_type": "display_data"
    },
    {
     "name": "stdout",
     "output_type": "stream",
     "text": [
      "+-----+-------------------+\n",
      "|CO_UF|count(ID_MATRICULA)|\n",
      "+-----+-------------------+\n",
      "|   35|                718|\n",
      "|   33|                523|\n",
      "|   31|                401|\n",
      "|   29|                395|\n",
      "|   43|                335|\n",
      "|   41|                293|\n",
      "|   15|                292|\n",
      "|   21|                206|\n",
      "|   52|                197|\n",
      "|   23|                194|\n",
      "|   26|                171|\n",
      "|   42|                143|\n",
      "|   25|                141|\n",
      "|   24|                121|\n",
      "|   51|                 90|\n",
      "|   22|                 88|\n",
      "|   53|                 87|\n",
      "|   32|                 86|\n",
      "|   13|                 84|\n",
      "|   50|                 83|\n",
      "+-----+-------------------+\n",
      "only showing top 20 rows"
     ]
    }
   ],
   "source": [
    "#Qual estado brasileiro possui o segundo maior número de alunas do sexo feminino com cegueira (in_cegueira=1)?\n",
    "censo.filter((censo.TP_SEXO == 2) & (censo.IN_CEGUEIRA == 1)).groupby('CO_UF').agg(count('ID_MATRICULA')).sort(col(\"count(ID_MATRICULA)\").desc()).show()"
   ]
  },
  {
   "cell_type": "code",
   "execution_count": 44,
   "id": "d28d486e",
   "metadata": {},
   "outputs": [
    {
     "data": {
      "application/vnd.jupyter.widget-view+json": {
       "model_id": "6a4e4b0603114f0db855007a08ad7da5",
       "version_major": 2,
       "version_minor": 0
      },
      "text/plain": [
       "VBox()"
      ]
     },
     "metadata": {},
     "output_type": "display_data"
    },
    {
     "data": {
      "application/vnd.jupyter.widget-view+json": {
       "model_id": "",
       "version_major": 2,
       "version_minor": 0
      },
      "text/plain": [
       "FloatProgress(value=0.0, bar_style='info', description='Progress:', layout=Layout(height='25px', width='50%'),…"
      ]
     },
     "metadata": {},
     "output_type": "display_data"
    },
    {
     "name": "stdout",
     "output_type": "stream",
     "text": [
      "+-----+-------------------+\n",
      "|CO_UF|count(ID_MATRICULA)|\n",
      "+-----+-------------------+\n",
      "|   35|               3007|\n",
      "|   31|               1117|\n",
      "|   41|               1012|\n",
      "|   29|                962|\n",
      "|   15|                870|\n",
      "|   26|                780|\n",
      "|   43|                695|\n",
      "|   23|                665|\n",
      "|   21|                618|\n",
      "|   33|                585|\n",
      "|   52|                531|\n",
      "|   42|                523|\n",
      "|   25|                388|\n",
      "|   13|                378|\n",
      "|   27|                336|\n",
      "|   24|                305|\n",
      "|   22|                270|\n",
      "|   32|                246|\n",
      "|   51|                201|\n",
      "|   50|                192|\n",
      "+-----+-------------------+\n",
      "only showing top 20 rows"
     ]
    }
   ],
   "source": [
    "#Qual é a diferença (em número absoluto de pessoas) entre o segundo e o terceiro estados brasileiros que possuem os maiores números de alunas do sexo feminino com surdez (in_surdez=1)?\n",
    "censo.filter((censo.TP_SEXO == 2) & (censo.IN_SURDEZ == 1)).groupby('CO_UF').agg(count('ID_MATRICULA')).sort(col(\"count(ID_MATRICULA)\").desc()).show()"
   ]
  },
  {
   "cell_type": "code",
   "execution_count": 45,
   "id": "e34fc1b8",
   "metadata": {},
   "outputs": [
    {
     "data": {
      "application/vnd.jupyter.widget-view+json": {
       "model_id": "afe4b937bbfb42fcb5f3a7c23c2a3898",
       "version_major": 2,
       "version_minor": 0
      },
      "text/plain": [
       "VBox()"
      ]
     },
     "metadata": {},
     "output_type": "display_data"
    },
    {
     "data": {
      "application/vnd.jupyter.widget-view+json": {
       "model_id": "",
       "version_major": 2,
       "version_minor": 0
      },
      "text/plain": [
       "FloatProgress(value=0.0, bar_style='info', description='Progress:', layout=Layout(height='25px', width='50%'),…"
      ]
     },
     "metadata": {},
     "output_type": "display_data"
    },
    {
     "name": "stdout",
     "output_type": "stream",
     "text": [
      "+-----+-------------------+\n",
      "|CO_UF|count(ID_MATRICULA)|\n",
      "+-----+-------------------+\n",
      "|   14|              10327|\n",
      "|   16|              11517|\n",
      "|   12|              14720|\n",
      "|   17|              24929|\n",
      "|   11|              25961|\n",
      "|   28|              29053|\n",
      "|   50|              36966|\n",
      "|   24|              40235|\n",
      "|   53|              42052|\n",
      "|   22|              44331|\n",
      "|   27|              45269|\n",
      "|   32|              47447|\n",
      "|   25|              51321|\n",
      "|   51|              51948|\n",
      "|   13|              65816|\n",
      "|   42|              89842|\n",
      "|   52|              94122|\n",
      "|   21|             111014|\n",
      "|   23|             122388|\n",
      "|   43|             125677|\n",
      "+-----+-------------------+\n",
      "only showing top 20 rows"
     ]
    }
   ],
   "source": [
    "#Qual é o estado brasileiro que possui o menor número de alunos matriculados no 9 ano (tp_etapa_ensino = 41)?\n",
    "censo.filter((censo.TP_ETAPA_ENSINO == 41) ).groupby('CO_UF').agg(count('ID_MATRICULA')).sort(col(\"count(ID_MATRICULA)\").asc()).show()"
   ]
  },
  {
   "cell_type": "code",
   "execution_count": null,
   "id": "15a4e045",
   "metadata": {},
   "outputs": [],
   "source": [
    "#censo.select(mean('NU_ANO_CENSO')).show()"
   ]
  }
 ],
 "metadata": {
  "kernelspec": {
   "display_name": "PySpark",
   "language": "",
   "name": "pysparkkernel"
  },
  "language_info": {
   "codemirror_mode": {
    "name": "python",
    "version": 3
   },
   "mimetype": "text/x-python",
   "name": "pyspark",
   "pygments_lexer": "python3"
  }
 },
 "nbformat": 4,
 "nbformat_minor": 5
}
